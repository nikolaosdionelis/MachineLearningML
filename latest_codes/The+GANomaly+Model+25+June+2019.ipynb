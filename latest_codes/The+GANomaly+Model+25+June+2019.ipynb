{
 "cells": [
  {
   "cell_type": "markdown",
   "metadata": {},
   "source": [
    "# GANomaly Notes"
   ]
  },
  {
   "cell_type": "markdown",
   "metadata": {},
   "source": [
    "In these notes, we analyze the GANomaly paper by \n",
    "S. Akcay et al https://arxiv.org/abs/1805.06725\n",
    "and the associated package \n",
    " https://github.com/samet-akcay/ganomaly."
   ]
  },
  {
   "cell_type": "markdown",
   "metadata": {},
   "source": [
    "## Importing the Module and Examining Its Contents"
   ]
  },
  {
   "cell_type": "markdown",
   "metadata": {},
   "source": [
    "In this section, we import the ganomaly package that has been downloaded from https://github.com/samet-akcay/ganomaly and we examine its contents. First, we set the location of the download."
   ]
  },
  {
   "cell_type": "code",
   "execution_count": null,
   "metadata": {},
   "outputs": [],
   "source": [
    "import os\n",
    "ganomalyPath = os.environ['HOME'] + '/PycharmProjects/ganomaly-master'"
   ]
  },
  {
   "cell_type": "code",
   "execution_count": null,
   "metadata": {},
   "outputs": [],
   "source": [
    "ganomalyPath"
   ]
  },
  {
   "cell_type": "markdown",
   "metadata": {},
   "source": [
    "Note that the name of the package is 'lib' as we can see from the import statements at the top level script https://github.com/samet-akcay/ganomaly/blob/master/train.py.\n",
    "Alternatively, lib is the only subdirectory with an __init__.py file in it."
   ]
  },
  {
   "cell_type": "code",
   "execution_count": null,
   "metadata": {},
   "outputs": [],
   "source": [
    "#os.listdir( ganomalyPath )\n",
    "[f for f in os.listdir( ganomalyPath ) if not (f.startswith('_') and not f.startswith('__init__'))]"
   ]
  },
  {
   "cell_type": "code",
   "execution_count": null,
   "metadata": {},
   "outputs": [],
   "source": [
    "#import os\n",
    "#os.listdir( ganomalyPath  + '/lib')\n",
    "\n",
    "#os.listdir( ganomalyPath  + '/lib')\n",
    "#[f for f in os.listdir( ganomalyPath  + '/lib') if not (f.startswith('_') and f!='__init__.py')]\n",
    "\n",
    "#[f for f in os.listdir( ganomalyPath  + '/lib') if not (f.startswith('_') and f!='__init__.py')]\n",
    "[f for f in os.listdir( ganomalyPath  + '/lib') if not (f.startswith('_') and not f.startswith('__init__'))]"
   ]
  },
  {
   "cell_type": "markdown",
   "metadata": {},
   "source": [
    "### Import"
   ]
  },
  {
   "cell_type": "markdown",
   "metadata": {},
   "source": [
    "The package must be in one of the paths in sys.path.  Setting up sys.path is best done in an initialization script like startup.py but to keep things simple here we do it directly."
   ]
  },
  {
   "cell_type": "code",
   "execution_count": 5,
   "metadata": {},
   "outputs": [
    {
     "data": {
      "text/plain": [
       "['/Users/dionelisnikolaos/anaconda3/lib/python36.zip',\n",
       " '/Users/dionelisnikolaos/anaconda3/lib/python3.6',\n",
       " '/Users/dionelisnikolaos/anaconda3/lib/python3.6/lib-dynload',\n",
       " '',\n",
       " '/Users/dionelisnikolaos/.local/lib/python3.6/site-packages',\n",
       " '/Users/dionelisnikolaos/anaconda3/lib/python3.6/site-packages',\n",
       " '/Users/dionelisnikolaos/anaconda3/lib/python3.6/site-packages/aeosa',\n",
       " '/Users/dionelisnikolaos/speech_feature_extraction',\n",
       " '/Users/dionelisnikolaos/anaconda3/lib/python3.6/site-packages/IPython/extensions',\n",
       " '/Users/dionelisnikolaos/.ipython',\n",
       " '/Users/dionelisnikolaos/PycharmProjects/ganomaly-master']"
      ]
     },
     "execution_count": 5,
     "metadata": {},
     "output_type": "execute_result"
    }
   ],
   "source": [
    "import sys\n",
    "\n",
    "if not ( ganomalyPath in sys.path ) :\n",
    "    sys.path.append( ganomalyPath )    \n",
    "        \n",
    "import lib\n",
    "# inspect \n",
    "sys.path"
   ]
  },
  {
   "cell_type": "markdown",
   "metadata": {},
   "source": [
    "### Examine lib"
   ]
  },
  {
   "cell_type": "markdown",
   "metadata": {},
   "source": [
    "There are a couple of ways to quickly find out what's in a packge.\n",
    "Here we are primarily interested in the constituent modules and their contents.\n",
    "First we use pkgutil.  "
   ]
  },
  {
   "cell_type": "code",
   "execution_count": 6,
   "metadata": {
    "scrolled": true
   },
   "outputs": [
    {
     "name": "stdout",
     "output_type": "stream",
     "text": [
      " FileFinder('/Users/dionelisnikolaos/PycharmProjects/ganomaly-master/lib'), data, False\n",
      " FileFinder('/Users/dionelisnikolaos/PycharmProjects/ganomaly-master/lib'), evaluate, False\n",
      " FileFinder('/Users/dionelisnikolaos/PycharmProjects/ganomaly-master/lib'), loss, False\n",
      " FileFinder('/Users/dionelisnikolaos/PycharmProjects/ganomaly-master/lib'), model, False\n",
      " FileFinder('/Users/dionelisnikolaos/PycharmProjects/ganomaly-master/lib'), networks, False\n",
      " FileFinder('/Users/dionelisnikolaos/PycharmProjects/ganomaly-master/lib'), visualizer, False\n"
     ]
    }
   ],
   "source": [
    "import pkgutil\n",
    "\n",
    "for importer, modname, ispkg in pkgutil.iter_modules( lib.__path__):\n",
    "    print(  \" %s, %s, %s\" % ( importer, modname, ispkg ) )"
   ]
  },
  {
   "cell_type": "markdown",
   "metadata": {},
   "source": [
    "A second way to examine the contents of a package is via the package pydeps. The installation details are in https://github.com/thebjorn/pydeps."
   ]
  },
  {
   "cell_type": "code",
   "execution_count": 7,
   "metadata": {},
   "outputs": [
    {
     "data": {
      "text/plain": [
       "0"
      ]
     },
     "execution_count": 7,
     "metadata": {},
     "output_type": "execute_result"
    }
   ],
   "source": [
    "#pydepsOut = '/PycharmProjects/tmp/pydeps.svg'\n",
    "pydepsOut = os.environ['HOME'] + '/PycharmProjects/pydeps.svg'\n",
    "\n",
    "#pydepsOut = os.environ['HOME'] + '/PycharmProjects/pydeps.svg'\n",
    "pydepsIn = \"\\'%s\\'\" % ( ganomalyPath + '/train.py' )\n",
    "\n",
    "import subprocess\n",
    "from subprocess import call\n",
    "\n",
    "subprocess.check_call( \"pydeps \"\n",
    "                       \"--debug \"\n",
    "                       \"--max-bacon 3 \"\n",
    "                       \"--exclude scipy tqdm numpy torch torchvision\" #torch torchvision\n",
    "                       \"--noise-level 6 \"\n",
    "                       \"--noshow \"\n",
    "                       \"--show-deps \"\n",
    "                       \"-o \" + pydepsOut + \" \" +\n",
    "                       pydepsIn + \" \" \n",
    "                       , shell = True\n",
    "                       #  , stderr = subprocess.STDOUT\n",
    ")\n",
    "\n",
    "#subprocess.call( \"pydeps \"\n",
    "#                 \"--debug \"\n",
    "#                 \"--max-bacon 3 \"\n",
    "#                 \"--exclude numpy scipy tqdm\" # torch torchvision\n",
    "#                 \"--noise-level 3 \"\n",
    "#                 \"--noshow \"\n",
    "#                 \"--show-deps \"\n",
    "#                 \"-o \" + pydepsOut + \" \"\n",
    "#                 \"'/Users/dionelisnikolaos/PycharmProjects/ganomaly-master/train.py'\"\n",
    "#                 , shell=True\n",
    "#)\n",
    "\n",
    "#subprocess.call( \"pydeps \"\n",
    "#                 \"--debug \"\n",
    "#                 \"--max-bacon 3 \"\n",
    "#                 \"--exclude numpy scipy  tqdm \" #torch torchvision\n",
    "#                 \"--noise-level 3 \"\n",
    "#                 \"--noshow \"\n",
    "#                 \"--show-deps \"\n",
    "#                 \"-o \" + pydepsOut + \" \"\n",
    "#                 \"'/Users/dionelisnikolaos/PycharmProjects/ganomaly-master/train.py'\"\n",
    "#                 , shell=True\n",
    "#)\n",
    "\n",
    "#pydepsOut = '/home/lockengines0/tmp/pydeps.svg'\n",
    "\n",
    "#from subprocess import call\n",
    "#subprocess.call( \"pydeps \"\n",
    "#                 \"--debug \"\n",
    "#                 \"--max-bacon 3 \"\n",
    "#                 \"--exclude numpy scipy  tqdm \" #torch torchvision\n",
    "#                 \"--noise-level 3 \"\n",
    "#                 \"--noshow \"\n",
    "#                 \"--show-deps \"\n",
    "#                 \"-o \" + pydepsOut + \" \"\n",
    "#                 \"'/home/lockengines0/Downloads/ganomaly-master/train.py'\"\n",
    "#                 , shell=True\n",
    "#)"
   ]
  },
  {
   "cell_type": "code",
   "execution_count": 8,
   "metadata": {},
   "outputs": [
    {
     "data": {
      "text/html": [
       "<style>svg{width:500px !important; height:500px !important;} </style>"
      ],
      "text/plain": [
       "<IPython.core.display.HTML object>"
      ]
     },
     "execution_count": 8,
     "metadata": {},
     "output_type": "execute_result"
    }
   ],
   "source": [
    "from IPython.display import HTML\n",
    "style = \"<style>svg{width:500px !important; height:500px !important;} </style>\"\n",
    "HTML(style)"
   ]
  },
  {
   "cell_type": "code",
   "execution_count": 9,
   "metadata": {
    "scrolled": false
   },
   "outputs": [
    {
     "data": {
      "image/svg+xml": [
       "<svg height=\"459pt\" viewBox=\"0.00 0.00 582.80 458.74\" width=\"583pt\" xmlns=\"http://www.w3.org/2000/svg\" xmlns:xlink=\"http://www.w3.org/1999/xlink\">\n",
       "<g class=\"graph\" id=\"graph0\" transform=\"scale(1 1) rotate(0) translate(4 454.7401)\">\n",
       "<title>G</title>\n",
       "<polygon fill=\"#ffffff\" points=\"-4,4 -4,-454.7401 578.7969,-454.7401 578.7969,4 -4,4\" stroke=\"transparent\"/>\n",
       "<!-- lib_model -->\n",
       "<g class=\"node\" id=\"node1\">\n",
       "<title>lib_model</title>\n",
       "<ellipse cx=\"262.7205\" cy=\"-162\" fill=\"#883a3a\" rx=\"32.1865\" ry=\"18\" stroke=\"#000000\"/>\n",
       "<text fill=\"#ffffff\" font-family=\"Helvetica,sans-Serif\" font-size=\"10.00\" text-anchor=\"middle\" x=\"262.7205\" y=\"-159\">lib.model</text>\n",
       "</g>\n",
       "<!-- train -->\n",
       "<g class=\"node\" id=\"node2\">\n",
       "<title>train</title>\n",
       "<ellipse cx=\"368.7205\" cy=\"-18\" fill=\"#70439d\" rx=\"27\" ry=\"18\" stroke=\"#000000\"/>\n",
       "<text fill=\"#ffffff\" font-family=\"Helvetica,sans-Serif\" font-size=\"10.00\" text-anchor=\"middle\" x=\"368.7205\" y=\"-15\">train</text>\n",
       "</g>\n",
       "<!-- lib_model&#45;&gt;train -->\n",
       "<g class=\"edge\" id=\"edge1\">\n",
       "<title>lib_model-&gt;train</title>\n",
       "<path d=\"M266.3634,-143.9697C270.942,-124.6779 280.2685,-93.9018 296.7205,-72 307.989,-56.9987 324.5273,-44.1895 338.9126,-34.8166\" fill=\"none\" stroke=\"#000000\"/>\n",
       "<polygon fill=\"#000000\" points=\"340.8986,-37.7028 347.5248,-29.4358 337.1895,-31.7662 340.8986,-37.7028\" stroke=\"#000000\"/>\n",
       "</g>\n",
       "<!-- lib -->\n",
       "<g class=\"node\" id=\"node3\">\n",
       "<title>lib</title>\n",
       "<ellipse cx=\"332.7205\" cy=\"-90\" fill=\"#c24747\" rx=\"27\" ry=\"18\" stroke=\"#000000\"/>\n",
       "<text fill=\"#ffffff\" font-family=\"Helvetica,sans-Serif\" font-size=\"10.00\" text-anchor=\"middle\" x=\"332.7205\" y=\"-87\">lib</text>\n",
       "</g>\n",
       "<!-- lib&#45;&gt;train -->\n",
       "<g class=\"edge\" id=\"edge2\">\n",
       "<title>lib-&gt;train</title>\n",
       "<path d=\"M341.4351,-72.5708C345.6801,-64.0807 350.874,-53.6929 355.5868,-44.2674\" fill=\"none\" stroke=\"#000000\"/>\n",
       "<polygon fill=\"#000000\" points=\"358.7444,-45.7782 360.0861,-35.2687 352.4834,-42.6477 358.7444,-45.7782\" stroke=\"#000000\"/>\n",
       "</g>\n",
       "<!-- options -->\n",
       "<g class=\"node\" id=\"node4\">\n",
       "<title>options</title>\n",
       "<ellipse cx=\"405.7205\" cy=\"-90\" fill=\"#85b653\" rx=\"27.7105\" ry=\"18\" stroke=\"#000000\"/>\n",
       "<text fill=\"#000000\" font-family=\"Helvetica,sans-Serif\" font-size=\"10.00\" text-anchor=\"middle\" x=\"405.7205\" y=\"-87\">options</text>\n",
       "</g>\n",
       "<!-- options&#45;&gt;train -->\n",
       "<g class=\"edge\" id=\"edge3\">\n",
       "<title>options-&gt;train</title>\n",
       "<path d=\"M396.7638,-72.5708C392.4008,-64.0807 387.0626,-53.6929 382.219,-44.2674\" fill=\"none\" stroke=\"#000000\"/>\n",
       "<polygon fill=\"#000000\" points=\"385.2784,-42.5633 377.5946,-35.2687 379.0524,-45.7628 385.2784,-42.5633\" stroke=\"#000000\"/>\n",
       "</g>\n",
       "<!-- lib_data -->\n",
       "<g class=\"node\" id=\"node5\">\n",
       "<title>lib_data</title>\n",
       "<ellipse cx=\"467.7205\" cy=\"-234\" fill=\"#9d4343\" rx=\"27.7105\" ry=\"18\" stroke=\"#000000\"/>\n",
       "<text fill=\"#ffffff\" font-family=\"Helvetica,sans-Serif\" font-size=\"10.00\" text-anchor=\"middle\" x=\"467.7205\" y=\"-231\">lib.data</text>\n",
       "</g>\n",
       "<!-- lib_data&#45;&gt;train -->\n",
       "<g class=\"edge\" id=\"edge4\">\n",
       "<title>lib_data-&gt;train</title>\n",
       "<path d=\"M469.2259,-215.96C470.9843,-184.3486 470.6845,-117.9445 442.7205,-72 432.6286,-55.4192 415.34,-42.3746 400.0105,-33.263\" fill=\"none\" stroke=\"#000000\"/>\n",
       "<polygon fill=\"#000000\" points=\"401.7126,-30.2048 391.2803,-28.3558 398.2826,-36.3068 401.7126,-30.2048\" stroke=\"#000000\"/>\n",
       "</g>\n",
       "<!-- torchvision -->\n",
       "<g class=\"node\" id=\"node6\">\n",
       "<title>torchvision</title>\n",
       "<ellipse cx=\"303.7205\" cy=\"-343\" fill=\"#21bfbf\" rx=\"36.6682\" ry=\"18\" stroke=\"#000000\"/>\n",
       "<text fill=\"#000000\" font-family=\"Helvetica,sans-Serif\" font-size=\"10.00\" text-anchor=\"middle\" x=\"303.7205\" y=\"-340\">torchvision</text>\n",
       "</g>\n",
       "<!-- torchvision&#45;&gt;lib_model -->\n",
       "<g class=\"edge\" id=\"edge9\">\n",
       "<title>torchvision-&gt;lib_model</title>\n",
       "<path d=\"M317.7205,-288.5C323.54,-250.8155 300.8431,-211.0714 282.8517,-186.4083\" fill=\"none\" stroke=\"#000000\"/>\n",
       "<polygon fill=\"#000000\" points=\"285.568,-184.1977 276.7386,-178.3417 279.989,-188.4257 285.568,-184.1977\" stroke=\"#000000\"/>\n",
       "</g>\n",
       "<!-- torchvision&#45;&gt;lib_data -->\n",
       "<g class=\"edge\" id=\"edge5\">\n",
       "<title>torchvision-&gt;lib_data</title>\n",
       "<path d=\"M317.7205,-288.5C325.7752,-236.3411 381.7593,-271.7037 430.7205,-252 432.5594,-251.2599 434.4345,-250.4688 436.3162,-249.6464\" fill=\"none\" stroke=\"#000000\"/>\n",
       "<polygon fill=\"#000000\" points=\"438.0155,-252.7176 445.6438,-245.365 435.0953,-246.3557 438.0155,-252.7176\" stroke=\"#000000\"/>\n",
       "</g>\n",
       "<!-- torchvision&#45;&gt;torchvision -->\n",
       "<g class=\"edge\" id=\"edge15\">\n",
       "<title>torchvision-&gt;torchvision</title>\n",
       "<path d=\"M334.4473,-353.0206C347.4646,-353.7757 358.5542,-350.4355 358.5542,-343 358.5542,-337.5976 352.7001,-334.3571 344.5059,-333.2786\" fill=\"none\" stroke=\"#000000\"/>\n",
       "<polygon fill=\"#000000\" points=\"344.547,-329.7783 334.4473,-332.9794 344.3389,-336.7752 344.547,-329.7783\" stroke=\"#000000\"/>\n",
       "</g>\n",
       "<!-- lib_visualizer -->\n",
       "<g class=\"node\" id=\"node11\">\n",
       "<title>lib_visualizer</title>\n",
       "<ellipse cx=\"176.7205\" cy=\"-234\" fill=\"#ac4949\" rx=\"40.8644\" ry=\"18\" stroke=\"#000000\"/>\n",
       "<text fill=\"#ffffff\" font-family=\"Helvetica,sans-Serif\" font-size=\"10.00\" text-anchor=\"middle\" x=\"176.7205\" y=\"-231\">lib.visualizer</text>\n",
       "</g>\n",
       "<!-- torchvision&#45;&gt;lib_visualizer -->\n",
       "<g class=\"edge\" id=\"edge19\">\n",
       "<title>torchvision-&gt;lib_visualizer</title>\n",
       "<path d=\"M309.2892,-325.0184C312.3121,-314.4828 315.8121,-300.8578 317.7205,-288.5\" fill=\"none\" stroke=\"#000000\"/>\n",
       "<path d=\"M317.7205,-288.5C318.1327,-285.8306 259.6723,-264.0447 217.9088,-248.8403\" fill=\"none\" stroke=\"#000000\"/>\n",
       "<polygon fill=\"#000000\" points=\"219.0831,-245.5431 208.489,-245.4192 216.6935,-252.1227 219.0831,-245.5431\" stroke=\"#000000\"/>\n",
       "</g>\n",
       "<!-- torchvision_transforms -->\n",
       "<g class=\"node\" id=\"node7\">\n",
       "<title>torchvision_transforms</title>\n",
       "<ellipse cx=\"303.7205\" cy=\"-423.8701\" fill=\"#47c2c2\" rx=\"47.153\" ry=\"19.6\" stroke=\"#000000\"/>\n",
       "<text fill=\"#000000\" font-family=\"Helvetica,sans-Serif\" font-size=\"10.00\" text-anchor=\"middle\" x=\"303.7205\" y=\"-425.8701\">torchvision.</text>\n",
       "<text fill=\"#000000\" font-family=\"Helvetica,sans-Serif\" font-size=\"10.00\" text-anchor=\"middle\" x=\"303.7205\" y=\"-415.8701\">transforms</text>\n",
       "</g>\n",
       "<!-- torchvision_transforms&#45;&gt;lib_data -->\n",
       "<g class=\"edge\" id=\"edge6\">\n",
       "<title>torchvision_transforms-&gt;lib_data</title>\n",
       "<path d=\"M467.7205,-343C475.5125,-316.4746 474.4111,-284.7257 472.0291,-262.3538\" fill=\"none\" stroke=\"#000000\"/>\n",
       "<polygon fill=\"#000000\" points=\"475.4744,-261.6916 470.7903,-252.1884 468.5258,-262.5384 475.4744,-261.6916\" stroke=\"#000000\"/>\n",
       "<path d=\"M334.8106,-408.8724C382.1952,-385.9687 467.1091,-344.7252 467.7205,-343\" fill=\"none\" stroke=\"#000000\"/>\n",
       "</g>\n",
       "<!-- torchvision_transforms&#45;&gt;torchvision -->\n",
       "<g class=\"edge\" id=\"edge17\">\n",
       "<title>torchvision_transforms-&gt;torchvision</title>\n",
       "<path d=\"M303.7205,-403.8797C303.7205,-394.0573 303.7205,-382.0507 303.7205,-371.3039\" fill=\"none\" stroke=\"#000000\"/>\n",
       "<polygon fill=\"#000000\" points=\"307.2206,-371.1047 303.7205,-361.1048 300.2206,-371.1048 307.2206,-371.1047\" stroke=\"#000000\"/>\n",
       "</g>\n",
       "<!-- torchvision_datasets_MNIST -->\n",
       "<g class=\"node\" id=\"node8\">\n",
       "<title>torchvision_datasets_MNIST</title>\n",
       "<ellipse cx=\"527.7205\" cy=\"-423.8701\" fill=\"#53b6b6\" rx=\"47.153\" ry=\"26.7407\" stroke=\"#000000\"/>\n",
       "<text fill=\"#000000\" font-family=\"Helvetica,sans-Serif\" font-size=\"10.00\" text-anchor=\"middle\" x=\"527.7205\" y=\"-430.8701\">torchvision.</text>\n",
       "<text fill=\"#000000\" font-family=\"Helvetica,sans-Serif\" font-size=\"10.00\" text-anchor=\"middle\" x=\"527.7205\" y=\"-420.8701\">datasets.</text>\n",
       "<text fill=\"#000000\" font-family=\"Helvetica,sans-Serif\" font-size=\"10.00\" text-anchor=\"middle\" x=\"527.7205\" y=\"-410.8701\">MNIST</text>\n",
       "</g>\n",
       "<!-- torchvision_datasets_MNIST&#45;&gt;lib_data -->\n",
       "<g class=\"edge\" id=\"edge7\">\n",
       "<title>torchvision_datasets_MNIST-&gt;lib_data</title>\n",
       "<path d=\"M497.2863,-403.2445C479.1489,-388.1531 460.8714,-366.3151 467.7205,-343\" fill=\"none\" stroke=\"#000000\"/>\n",
       "</g>\n",
       "<!-- torchvision_datasets -->\n",
       "<g class=\"node\" id=\"node9\">\n",
       "<title>torchvision_datasets</title>\n",
       "<ellipse cx=\"415.7205\" cy=\"-423.8701\" fill=\"#47c2c2\" rx=\"47.153\" ry=\"19.6\" stroke=\"#000000\"/>\n",
       "<text fill=\"#000000\" font-family=\"Helvetica,sans-Serif\" font-size=\"10.00\" text-anchor=\"middle\" x=\"415.7205\" y=\"-425.8701\">torchvision.</text>\n",
       "<text fill=\"#000000\" font-family=\"Helvetica,sans-Serif\" font-size=\"10.00\" text-anchor=\"middle\" x=\"415.7205\" y=\"-415.8701\">datasets</text>\n",
       "</g>\n",
       "<!-- torchvision_datasets&#45;&gt;lib_data -->\n",
       "<g class=\"edge\" id=\"edge8\">\n",
       "<title>torchvision_datasets-&gt;lib_data</title>\n",
       "<path d=\"M432.2126,-405.176C444.6854,-389.7129 460.8047,-366.5424 467.7205,-343\" fill=\"none\" stroke=\"#000000\"/>\n",
       "</g>\n",
       "<!-- torchvision_datasets&#45;&gt;torchvision -->\n",
       "<g class=\"edge\" id=\"edge16\">\n",
       "<title>torchvision_datasets-&gt;torchvision</title>\n",
       "<path d=\"M391.9681,-406.7196C374.7513,-394.2881 351.3655,-377.4023 332.9934,-364.1367\" fill=\"none\" stroke=\"#000000\"/>\n",
       "<polygon fill=\"#000000\" points=\"334.5826,-360.9671 324.4262,-357.9507 330.4847,-366.6423 334.5826,-360.9671\" stroke=\"#000000\"/>\n",
       "</g>\n",
       "<!-- lib_loss -->\n",
       "<g class=\"node\" id=\"node10\">\n",
       "<title>lib_loss</title>\n",
       "<ellipse cx=\"262.7205\" cy=\"-234\" fill=\"#b65353\" rx=\"27\" ry=\"18\" stroke=\"#000000\"/>\n",
       "<text fill=\"#ffffff\" font-family=\"Helvetica,sans-Serif\" font-size=\"10.00\" text-anchor=\"middle\" x=\"262.7205\" y=\"-231\">lib.loss</text>\n",
       "</g>\n",
       "<!-- lib_loss&#45;&gt;lib_model -->\n",
       "<g class=\"edge\" id=\"edge10\">\n",
       "<title>lib_loss-&gt;lib_model</title>\n",
       "<path d=\"M262.7205,-215.8314C262.7205,-208.131 262.7205,-198.9743 262.7205,-190.4166\" fill=\"none\" stroke=\"#000000\"/>\n",
       "<polygon fill=\"#000000\" points=\"266.2206,-190.4132 262.7205,-180.4133 259.2206,-190.4133 266.2206,-190.4132\" stroke=\"#000000\"/>\n",
       "</g>\n",
       "<!-- lib_visualizer&#45;&gt;lib_model -->\n",
       "<g class=\"edge\" id=\"edge11\">\n",
       "<title>lib_visualizer-&gt;lib_model</title>\n",
       "<path d=\"M195.8066,-218.0209C207.8547,-207.9341 223.5753,-194.7727 236.7512,-183.7417\" fill=\"none\" stroke=\"#000000\"/>\n",
       "<polygon fill=\"#000000\" points=\"239.1499,-186.2982 244.5707,-177.1951 234.6564,-180.9308 239.1499,-186.2982\" stroke=\"#000000\"/>\n",
       "</g>\n",
       "<!-- lib_evaluate -->\n",
       "<g class=\"node\" id=\"node12\">\n",
       "<title>lib_evaluate</title>\n",
       "<ellipse cx=\"383.7205\" cy=\"-234\" fill=\"#b65353\" rx=\"38.3925\" ry=\"18\" stroke=\"#000000\"/>\n",
       "<text fill=\"#ffffff\" font-family=\"Helvetica,sans-Serif\" font-size=\"10.00\" text-anchor=\"middle\" x=\"383.7205\" y=\"-231\">lib.evaluate</text>\n",
       "</g>\n",
       "<!-- lib_evaluate&#45;&gt;lib_model -->\n",
       "<g class=\"edge\" id=\"edge12\">\n",
       "<title>lib_evaluate-&gt;lib_model</title>\n",
       "<path d=\"M359.8148,-219.7751C340.8563,-208.4941 314.2185,-192.6435 293.6385,-180.3975\" fill=\"none\" stroke=\"#000000\"/>\n",
       "<polygon fill=\"#000000\" points=\"295.328,-177.3301 284.9445,-175.2242 291.7485,-183.3457 295.328,-177.3301\" stroke=\"#000000\"/>\n",
       "</g>\n",
       "<!-- lib_networks -->\n",
       "<g class=\"node\" id=\"node13\">\n",
       "<title>lib_networks</title>\n",
       "<ellipse cx=\"39.7205\" cy=\"-234\" fill=\"#b65353\" rx=\"39.9421\" ry=\"18\" stroke=\"#000000\"/>\n",
       "<text fill=\"#ffffff\" font-family=\"Helvetica,sans-Serif\" font-size=\"10.00\" text-anchor=\"middle\" x=\"39.7205\" y=\"-231\">lib.networks</text>\n",
       "</g>\n",
       "<!-- lib_networks&#45;&gt;lib_model -->\n",
       "<g class=\"edge\" id=\"edge13\">\n",
       "<title>lib_networks-&gt;lib_model</title>\n",
       "<path d=\"M71.6792,-223.2738C78.921,-220.8637 86.5808,-218.3305 93.7205,-216 138.7598,-201.2984 190.6873,-184.7688 224.9657,-173.9153\" fill=\"none\" stroke=\"#000000\"/>\n",
       "<polygon fill=\"#000000\" points=\"226.0989,-177.2279 234.5773,-170.8744 223.9873,-170.554 226.0989,-177.2279\" stroke=\"#000000\"/>\n",
       "</g>\n",
       "<!-- torchvision_utils -->\n",
       "<g class=\"node\" id=\"node14\">\n",
       "<title>torchvision_utils</title>\n",
       "<ellipse cx=\"191.7205\" cy=\"-423.8701\" fill=\"#3bcece\" rx=\"47.153\" ry=\"19.6\" stroke=\"#000000\"/>\n",
       "<text fill=\"#000000\" font-family=\"Helvetica,sans-Serif\" font-size=\"10.00\" text-anchor=\"middle\" x=\"191.7205\" y=\"-425.8701\">torchvision.</text>\n",
       "<text fill=\"#000000\" font-family=\"Helvetica,sans-Serif\" font-size=\"10.00\" text-anchor=\"middle\" x=\"191.7205\" y=\"-415.8701\">utils</text>\n",
       "</g>\n",
       "<!-- torchvision_utils&#45;&gt;lib_model -->\n",
       "<g class=\"edge\" id=\"edge14\">\n",
       "<title>torchvision_utils-&gt;lib_model</title>\n",
       "<path d=\"M176.7205,-288.5C169.0595,-262.0747 139.1836,-276.5287 126.7205,-252 119.4727,-237.7357 117.7336,-229.2377 126.7205,-216 147.5789,-185.2755 188.9602,-172.0321 220.6256,-166.3239\" fill=\"none\" stroke=\"#000000\"/>\n",
       "<polygon fill=\"#000000\" points=\"221.2139,-169.7744 230.5269,-164.7228 220.0964,-162.8641 221.2139,-169.7744\" stroke=\"#000000\"/>\n",
       "<path d=\"M190.954,-403.9004C189.605,-377.2765 186.0045,-328.8248 176.7205,-288.5\" fill=\"none\" stroke=\"#000000\"/>\n",
       "</g>\n",
       "<!-- torchvision_utils&#45;&gt;torchvision -->\n",
       "<g class=\"edge\" id=\"edge18\">\n",
       "<title>torchvision_utils-&gt;torchvision</title>\n",
       "<path d=\"M215.4728,-406.7196C232.6896,-394.2881 256.0755,-377.4023 274.4475,-364.1367\" fill=\"none\" stroke=\"#000000\"/>\n",
       "<polygon fill=\"#000000\" points=\"276.9562,-366.6423 283.0147,-357.9507 272.8584,-360.9671 276.9562,-366.6423\" stroke=\"#000000\"/>\n",
       "</g>\n",
       "<!-- torchvision_utils&#45;&gt;lib_visualizer -->\n",
       "<g class=\"edge\" id=\"edge20\">\n",
       "<title>torchvision_utils-&gt;lib_visualizer</title>\n",
       "<path d=\"M176.7205,-288.5C174.2855,-280.1011 173.6087,-270.6631 173.738,-262.0311\" fill=\"none\" stroke=\"#000000\"/>\n",
       "<polygon fill=\"#000000\" points=\"177.2345,-262.186 174.2314,-252.0257 170.243,-261.8411 177.2345,-262.186\" stroke=\"#000000\"/>\n",
       "</g>\n",
       "</g>\n",
       "</svg>"
      ],
      "text/plain": [
       "<IPython.core.display.SVG object>"
      ]
     },
     "execution_count": 9,
     "metadata": {},
     "output_type": "execute_result"
    }
   ],
   "source": [
    "# display in cell\n",
    "from IPython.core.display import SVG\n",
    "SVG(filename=pydepsOut)"
   ]
  },
  {
   "cell_type": "markdown",
   "metadata": {},
   "source": [
    "### Function Call Graph"
   ]
  },
  {
   "cell_type": "markdown",
   "metadata": {},
   "source": [
    "Below we will use the pycallgraph package http://pycallgraph.slowchop.com/en/master/ to explore the class and function interrelations inside each module."
   ]
  },
  {
   "cell_type": "markdown",
   "metadata": {},
   "source": [
    "### The List of Modules"
   ]
  },
  {
   "cell_type": "markdown",
   "metadata": {},
   "source": [
    "The above graph gives us both the list of modules in lib and their inter-dependencies.  We can examine the modules in any order that respects these dependencies so we choose\n",
    "\n",
    "    1. evaluate \n",
    "    2. loss\n",
    "    3. data\n",
    "    4. networks\n",
    "    5. visualizer\n",
    "    6. model\n",
    "    7. train\n",
    "    \n",
    " and in the following sections we proceed to examine them in turn."
   ]
  },
  {
   "cell_type": "markdown",
   "metadata": {},
   "source": [
    "## Module lib.evaluate"
   ]
  },
  {
   "cell_type": "code",
   "execution_count": 10,
   "metadata": {},
   "outputs": [
    {
     "data": {
      "text/plain": [
       "['auc',\n",
       " 'auprc',\n",
       " 'average_precision_score',\n",
       " 'brentq',\n",
       " 'evaluate',\n",
       " 'f1_score',\n",
       " 'interp1d',\n",
       " 'os',\n",
       " 'plt',\n",
       " 'print_function',\n",
       " 'rc',\n",
       " 'roc',\n",
       " 'roc_curve']"
      ]
     },
     "execution_count": 10,
     "metadata": {},
     "output_type": "execute_result"
    }
   ],
   "source": [
    "#os.listdir( ganomalyPath + '/lib')\n",
    "#os.listdir( ganomalyPath + '/lib.evaluate.py')\n",
    "\n",
    "#dir( lib.evaluate )\n",
    "#dir( 'lib.evaluate' )\n",
    "\n",
    "import lib.evaluate\n",
    "#dir( lib.evaluate )\n",
    "\n",
    "#dir( lib.evaluate )\n",
    "[f for f in dir(lib.evaluate) if not (f.startswith('_') and f!='__init__')]"
   ]
  },
  {
   "cell_type": "code",
   "execution_count": 11,
   "metadata": {
    "collapsed": true
   },
   "outputs": [],
   "source": [
    "# From the previous cell, we see that we have zero classes in lib.evaluate.\n",
    "# We have zero classes: lib.evaluate has zero classes/objects with functions.\n"
   ]
  },
  {
   "cell_type": "markdown",
   "metadata": {},
   "source": [
    "## Module lib.loss"
   ]
  },
  {
   "cell_type": "code",
   "execution_count": 12,
   "metadata": {},
   "outputs": [
    {
     "data": {
      "text/plain": [
       "['l1_loss', 'l2_loss', 'torch']"
      ]
     },
     "execution_count": 12,
     "metadata": {},
     "output_type": "execute_result"
    }
   ],
   "source": [
    "import lib.loss\n",
    "#dir( lib.loss )\n",
    "\n",
    "#dir( lib.loss )\n",
    "[f for f in dir( lib.loss ) if not (f.startswith('_') and f!='__init__')]"
   ]
  },
  {
   "cell_type": "code",
   "execution_count": 13,
   "metadata": {
    "collapsed": true
   },
   "outputs": [],
   "source": [
    "# From the previous cell, we see that we have zero classes in lib.loss.\n",
    "# We have zero classes: lib.loss has zero classes/objects with functions.\n"
   ]
  },
  {
   "cell_type": "markdown",
   "metadata": {},
   "source": [
    "## Module lib.data"
   ]
  },
  {
   "cell_type": "code",
   "execution_count": 14,
   "metadata": {},
   "outputs": [
    {
     "data": {
      "text/plain": [
       "['CIFAR10',\n",
       " 'ImageFolder',\n",
       " 'MNIST',\n",
       " 'datasets',\n",
       " 'get_cifar_anomaly_dataset',\n",
       " 'get_mnist2_anomaly_dataset',\n",
       " 'get_mnist_anomaly_dataset',\n",
       " 'load_data',\n",
       " 'np',\n",
       " 'os',\n",
       " 'torch',\n",
       " 'transforms']"
      ]
     },
     "execution_count": 14,
     "metadata": {},
     "output_type": "execute_result"
    }
   ],
   "source": [
    "#dir( 'lib.data' )\n",
    "\n",
    "import lib.data\n",
    "#dir( lib.data )\n",
    "\n",
    "#dir( lib.data )\n",
    "[f for f in dir( lib.data ) if not (f.startswith('_') and f!='__init__')]"
   ]
  },
  {
   "cell_type": "markdown",
   "metadata": {},
   "source": [
    "## Module lib.networks"
   ]
  },
  {
   "cell_type": "code",
   "execution_count": 15,
   "metadata": {},
   "outputs": [
    {
     "data": {
      "text/plain": [
       "['Decoder', 'Encoder', 'NetD', 'NetG', 'nn', 'torch', 'weights_init']"
      ]
     },
     "execution_count": 15,
     "metadata": {},
     "output_type": "execute_result"
    }
   ],
   "source": [
    "#dir( 'lib.networks' )\n",
    "\n",
    "import lib.networks\n",
    "#dir( lib.networks )\n",
    "\n",
    "#dir( lib.networks )\n",
    "[f for f in dir( lib.networks ) if not (f.startswith('_') and f!='__init__')]"
   ]
  },
  {
   "cell_type": "code",
   "execution_count": 16,
   "metadata": {
    "collapsed": true
   },
   "outputs": [],
   "source": [
    "# From the previous cell, we see that we have 4 classes in lib.networks.\n",
    "# We have 4 classes: lib.networks has 4 classes (i.e. objects) with functions.\n",
    "\n",
    "# The 4 classes are: Decoder, Encoder, NetD, NetG."
   ]
  },
  {
   "cell_type": "code",
   "execution_count": 17,
   "metadata": {},
   "outputs": [
    {
     "data": {
      "text/plain": [
       "['__init__',\n",
       " 'add_module',\n",
       " 'apply',\n",
       " 'children',\n",
       " 'cpu',\n",
       " 'cuda',\n",
       " 'double',\n",
       " 'dump_patches',\n",
       " 'eval',\n",
       " 'extra_repr',\n",
       " 'float',\n",
       " 'forward',\n",
       " 'half',\n",
       " 'load_state_dict',\n",
       " 'modules',\n",
       " 'named_children',\n",
       " 'named_modules',\n",
       " 'named_parameters',\n",
       " 'parameters',\n",
       " 'register_backward_hook',\n",
       " 'register_buffer',\n",
       " 'register_forward_hook',\n",
       " 'register_forward_pre_hook',\n",
       " 'register_parameter',\n",
       " 'share_memory',\n",
       " 'state_dict',\n",
       " 'to',\n",
       " 'train',\n",
       " 'type',\n",
       " 'zero_grad']"
      ]
     },
     "execution_count": 17,
     "metadata": {},
     "output_type": "execute_result"
    }
   ],
   "source": [
    "from lib.networks import Decoder\n",
    "#dir( Decoder )\n",
    "\n",
    "#dir( Decoder )\n",
    "[f for f in dir( Decoder ) if not (f.startswith('_') and f!='__init__')]"
   ]
  },
  {
   "cell_type": "code",
   "execution_count": 18,
   "metadata": {},
   "outputs": [
    {
     "data": {
      "text/plain": [
       "['__init__',\n",
       " 'add_module',\n",
       " 'apply',\n",
       " 'children',\n",
       " 'cpu',\n",
       " 'cuda',\n",
       " 'double',\n",
       " 'dump_patches',\n",
       " 'eval',\n",
       " 'extra_repr',\n",
       " 'float',\n",
       " 'forward',\n",
       " 'half',\n",
       " 'load_state_dict',\n",
       " 'modules',\n",
       " 'named_children',\n",
       " 'named_modules',\n",
       " 'named_parameters',\n",
       " 'parameters',\n",
       " 'register_backward_hook',\n",
       " 'register_buffer',\n",
       " 'register_forward_hook',\n",
       " 'register_forward_pre_hook',\n",
       " 'register_parameter',\n",
       " 'share_memory',\n",
       " 'state_dict',\n",
       " 'to',\n",
       " 'train',\n",
       " 'type',\n",
       " 'zero_grad']"
      ]
     },
     "execution_count": 18,
     "metadata": {},
     "output_type": "execute_result"
    }
   ],
   "source": [
    "from lib.networks import Encoder\n",
    "#dir( Encoder )\n",
    "\n",
    "#dir( Encoder )\n",
    "[f for f in dir( Encoder ) if not (f.startswith('_') and f!='__init__')]"
   ]
  },
  {
   "cell_type": "code",
   "execution_count": 19,
   "metadata": {},
   "outputs": [
    {
     "data": {
      "text/plain": [
       "['__init__',\n",
       " 'add_module',\n",
       " 'apply',\n",
       " 'children',\n",
       " 'cpu',\n",
       " 'cuda',\n",
       " 'double',\n",
       " 'dump_patches',\n",
       " 'eval',\n",
       " 'extra_repr',\n",
       " 'float',\n",
       " 'forward',\n",
       " 'half',\n",
       " 'load_state_dict',\n",
       " 'modules',\n",
       " 'named_children',\n",
       " 'named_modules',\n",
       " 'named_parameters',\n",
       " 'parameters',\n",
       " 'register_backward_hook',\n",
       " 'register_buffer',\n",
       " 'register_forward_hook',\n",
       " 'register_forward_pre_hook',\n",
       " 'register_parameter',\n",
       " 'share_memory',\n",
       " 'state_dict',\n",
       " 'to',\n",
       " 'train',\n",
       " 'type',\n",
       " 'zero_grad']"
      ]
     },
     "execution_count": 19,
     "metadata": {},
     "output_type": "execute_result"
    }
   ],
   "source": [
    "from lib.networks import NetD\n",
    "#dir( NetD )\n",
    "\n",
    "#dir( NetD )\n",
    "[f for f in dir( NetD ) if not (f.startswith('_') and f!='__init__')]"
   ]
  },
  {
   "cell_type": "code",
   "execution_count": 20,
   "metadata": {},
   "outputs": [
    {
     "data": {
      "text/plain": [
       "['__init__',\n",
       " 'add_module',\n",
       " 'apply',\n",
       " 'children',\n",
       " 'cpu',\n",
       " 'cuda',\n",
       " 'double',\n",
       " 'dump_patches',\n",
       " 'eval',\n",
       " 'extra_repr',\n",
       " 'float',\n",
       " 'forward',\n",
       " 'half',\n",
       " 'load_state_dict',\n",
       " 'modules',\n",
       " 'named_children',\n",
       " 'named_modules',\n",
       " 'named_parameters',\n",
       " 'parameters',\n",
       " 'register_backward_hook',\n",
       " 'register_buffer',\n",
       " 'register_forward_hook',\n",
       " 'register_forward_pre_hook',\n",
       " 'register_parameter',\n",
       " 'share_memory',\n",
       " 'state_dict',\n",
       " 'to',\n",
       " 'train',\n",
       " 'type',\n",
       " 'zero_grad']"
      ]
     },
     "execution_count": 20,
     "metadata": {},
     "output_type": "execute_result"
    }
   ],
   "source": [
    "from lib.networks import NetG\n",
    "#dir( NetG )\n",
    "\n",
    "#dir( NetG )\n",
    "[f for f in dir( NetG ) if not (f.startswith('_') and f!='__init__')]"
   ]
  },
  {
   "cell_type": "markdown",
   "metadata": {},
   "source": [
    "## Module lib.visualizer"
   ]
  },
  {
   "cell_type": "code",
   "execution_count": 21,
   "metadata": {},
   "outputs": [
    {
     "data": {
      "text/plain": [
       "['Visualizer', 'np', 'os', 'time', 'vutils']"
      ]
     },
     "execution_count": 21,
     "metadata": {},
     "output_type": "execute_result"
    }
   ],
   "source": [
    "import lib.visualizer\n",
    "#dir( lib.visualizer )\n",
    "\n",
    "#dir( lib.visualizer )\n",
    "[f for f in dir( lib.visualizer ) if not (f.startswith('_') and f!='__init__')]"
   ]
  },
  {
   "cell_type": "code",
   "execution_count": 22,
   "metadata": {},
   "outputs": [
    {
     "data": {
      "text/plain": [
       "['__init__',\n",
       " 'display_current_images',\n",
       " 'normalize',\n",
       " 'plot_current_errors',\n",
       " 'plot_performance',\n",
       " 'print_current_errors',\n",
       " 'print_current_performance',\n",
       " 'save_current_images']"
      ]
     },
     "execution_count": 22,
     "metadata": {},
     "output_type": "execute_result"
    }
   ],
   "source": [
    "# From the previous cell, we see that Visualizer is a class.\n",
    "# We have one class: Visualizer is a class (i.e. an object) that has functions.\n",
    "\n",
    "from lib.visualizer import Visualizer\n",
    "#dir( Visualizer )\n",
    "\n",
    "#dir( Visualizer )\n",
    "[f for f in dir( Visualizer ) if not (f.startswith('_') and f!='__init__')]"
   ]
  },
  {
   "cell_type": "markdown",
   "metadata": {},
   "source": [
    "## Module lib.model"
   ]
  },
  {
   "cell_type": "code",
   "execution_count": 23,
   "metadata": {
    "scrolled": true
   },
   "outputs": [
    {
     "data": {
      "text/plain": [
       "['Ganomaly',\n",
       " 'NetD',\n",
       " 'NetG',\n",
       " 'OrderedDict',\n",
       " 'Variable',\n",
       " 'Visualizer',\n",
       " 'evaluate',\n",
       " 'l2_loss',\n",
       " 'nn',\n",
       " 'np',\n",
       " 'optim',\n",
       " 'os',\n",
       " 'time',\n",
       " 'torch',\n",
       " 'tqdm',\n",
       " 'vutils',\n",
       " 'weights_init']"
      ]
     },
     "execution_count": 23,
     "metadata": {},
     "output_type": "execute_result"
    }
   ],
   "source": [
    "import lib.model\n",
    "#dir( lib.model )\n",
    "\n",
    "#dir( lib.model )\n",
    "[f for f in dir( lib.model ) if not (f.startswith('_') and f!='__init__')]"
   ]
  },
  {
   "cell_type": "code",
   "execution_count": 24,
   "metadata": {},
   "outputs": [
    {
     "data": {
      "text/plain": [
       "['__init__',\n",
       " 'get_current_images',\n",
       " 'get_errors',\n",
       " 'name',\n",
       " 'optimize',\n",
       " 'reinitialize_netd',\n",
       " 'save_weights',\n",
       " 'set_input',\n",
       " 'test',\n",
       " 'train',\n",
       " 'train_epoch',\n",
       " 'update_netd',\n",
       " 'update_netg']"
      ]
     },
     "execution_count": 24,
     "metadata": {},
     "output_type": "execute_result"
    }
   ],
   "source": [
    "from lib.model import Ganomaly\n",
    "#dir( Ganomaly )\n",
    "\n",
    "#dir( Ganomaly )\n",
    "[f for f in dir( Ganomaly ) if not (f.startswith('_') and f!='__init__')]"
   ]
  },
  {
   "cell_type": "markdown",
   "metadata": {},
   "source": [
    "## Module train"
   ]
  },
  {
   "cell_type": "markdown",
   "metadata": {},
   "source": [
    "Find all symbols in train.py"
   ]
  },
  {
   "cell_type": "code",
   "execution_count": 25,
   "metadata": {
    "scrolled": false
   },
   "outputs": [
    {
     "data": {
      "text/plain": [
       "['__init__', 'parse']"
      ]
     },
     "execution_count": 25,
     "metadata": {},
     "output_type": "execute_result"
    }
   ],
   "source": [
    "from options import Options\n",
    "#dir( Options )\n",
    "\n",
    "#dir( Options )\n",
    "[f for f in dir( Options ) if not (f.startswith('_') and f!='__init__')]"
   ]
  },
  {
   "cell_type": "code",
   "execution_count": 26,
   "metadata": {
    "collapsed": true,
    "scrolled": true
   },
   "outputs": [],
   "source": [
    "#import train\n",
    "#dir( train )"
   ]
  },
  {
   "cell_type": "code",
   "execution_count": 27,
   "metadata": {
    "collapsed": true
   },
   "outputs": [],
   "source": [
    "#import train.py\n",
    "#dir( train.py )"
   ]
  },
  {
   "cell_type": "code",
   "execution_count": 28,
   "metadata": {
    "collapsed": true
   },
   "outputs": [],
   "source": [
    "#[f for f in dir(Options) if not f.startswith('_')]\n",
    "#[f for f in dir(Options) if not (f.startswith('_') and f!='__init__')]\n",
    "\n",
    "#[f for f in dir(Options) if not (f.startswith('_') and f!='__init__')]\n",
    "#[f for f in dir(Options) if not (f.startswith('_') and f!='__init__')]"
   ]
  },
  {
   "cell_type": "code",
   "execution_count": null,
   "metadata": {
    "collapsed": true
   },
   "outputs": [],
   "source": []
  },
  {
   "cell_type": "code",
   "execution_count": null,
   "metadata": {
    "collapsed": true
   },
   "outputs": [],
   "source": []
  },
  {
   "cell_type": "code",
   "execution_count": null,
   "metadata": {
    "collapsed": true
   },
   "outputs": [],
   "source": []
  }
 ],
 "metadata": {
  "anaconda-cloud": {},
  "kernelspec": {
   "display_name": "Python 2",
   "language": "python",
   "name": "python2"
  },
  "language_info": {
   "codemirror_mode": {
    "name": "ipython",
    "version": 3
   },
   "file_extension": ".py",
   "mimetype": "text/x-python",
   "name": "python",
   "nbconvert_exporter": "python",
   "pygments_lexer": "ipython3",
   "version": "3.6.8"
  }
 },
 "nbformat": 4,
 "nbformat_minor": 1
}
