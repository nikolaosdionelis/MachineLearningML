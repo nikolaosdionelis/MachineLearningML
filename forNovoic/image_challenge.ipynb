{
 "cells": [
  {
   "cell_type": "markdown",
   "metadata": {
    "colab_type": "text",
    "id": "view-in-github"
   },
   "source": [
    "<a href=\"https://colab.research.google.com/github/novoic/ml-challenge/blob/master/image_challenge.ipynb\" target=\"_parent\"><img src=\"https://colab.research.google.com/assets/colab-badge.svg\" alt=\"Open In Colab\"/></a>"
   ]
  },
  {
   "cell_type": "markdown",
   "metadata": {
    "colab_type": "text",
    "id": "NOHLZHtggQtk"
   },
   "source": [
    "<a href=\"https://novoic.com\"><img src=\"https://novoic.com/wp-content/uploads/2019/10/logo_320px.png\" alt=\"Novoic logo\" width=\"160\"/></a>\n",
    "\n",
    "# Novoic ML challenge – image data"
   ]
  },
  {
   "cell_type": "markdown",
   "metadata": {
    "colab_type": "text",
    "id": "zlll6t_8M5fy"
   },
   "source": [
    "## Introduction\n",
    "Welcome to the Novoic ML challenge!\n",
    "\n",
    "This is an open-ended ML challenge to help us identify exceptional researchers and engineers. The guidance below describes an open-source dataset that you can use to demonstrate your research skills, creativity, coding ability, scientific communication or anything else you think is important to the role.\n",
    "\n",
    "Before starting the challenge, go ahead and read our CEO's [Medium post](https://medium.com/@emil_45669/the-doctor-is-ready-to-see-you-tube-videos-716b12367feb) on what we're looking for in our Research Scientists, Research Engineers and ML Interns. We recommend you spend around three hours on this (more or less if you wish), which you do not have to do in one go. Please make use of any resources you like.\n",
    "\n",
    "This is the image version of the challenge. Also available are text and audio versions. You can access all three from [this GitHub repo](https://github.com/novoic/ml-challenge).\n",
    "\n",
    "Best of luck – we're looking forward to seeing what you can do!"
   ]
  },
  {
   "cell_type": "markdown",
   "metadata": {
    "colab_type": "text",
    "id": "GUJZyzMB_2TA"
   },
   "source": [
    "## Prepare the data\n",
    "Copy the dataset to a local directory – this should take around 10 minutes."
   ]
  },
  {
   "cell_type": "code",
   "execution_count": null,
   "metadata": {
    "colab": {},
    "colab_type": "code",
    "id": "AaRNBDz4nN1t"
   },
   "outputs": [],
   "source": [
    "#!mkdir -p data\n",
    "#!gsutil -m cp -r gs://novoic-ml-challenge-image-data/* ./data"
   ]
  },
  {
   "cell_type": "markdown",
   "metadata": {
    "colab_type": "text",
    "id": "BpJ7NOCXkCKs"
   },
   "source": [
    "## Data description\n",
    "\n",
    "The data comprises 17,125 images in jpg format. Each image is of a realistic scene typically containing a number of objects.\n",
    "\n",
    "There are 20 object classes of interest: aeroplane, bicycle, bird, boat, bottle, bus, car, cat, chair, cow, dining table, dog, horse, motorbike, person, potted plant, sheep, sofa, train, TV monitor. \n",
    "\n",
    "Each image is labelled with one of three numbers for each object class:\n",
    "- -1 (no objects of this class feature in the image)\n",
    "- 1 (at least one object of this class features in the image)\n",
    "- 0 (at least one object of this class features in the image but they are all difficult to recognise)\n"
   ]
  },
  {
   "cell_type": "code",
   "execution_count": null,
   "metadata": {
    "colab": {},
    "colab_type": "code",
    "id": "muZyXMc8rbAK"
   },
   "outputs": [],
   "source": [
    "import IPython \n",
    "IPython.display.Image(filename='data/images/2012_004258.jpg') "
   ]
  },
  {
   "cell_type": "code",
   "execution_count": null,
   "metadata": {
    "colab": {},
    "colab_type": "code",
    "id": "6Ey4KqN1uBqN"
   },
   "outputs": [],
   "source": [
    "IPython.display.Image(filename='data/images/2008_007739.jpg')"
   ]
  },
  {
   "cell_type": "markdown",
   "metadata": {
    "colab_type": "text",
    "id": "UeYkLol_rZoT"
   },
   "source": [
    "Each object class file (e.g. `aeroplane.txt`) contains the name of the image without the extension (e.g. `2008_007739`) followed by a space and then the class label (e.g. `-1`).\n",
    "\n",
    "For more information about the dataset, see its `README.md`.\n",
    "\n",
    "Directory structure:\n",
    "```\n",
    "data/\n",
    "├── images/         # dir for jpg files\n",
    "├── aeroplane.txt   # aeroplane object class labels\n",
    "├── bicycle.txt     # bicycle object class labels\n",
    "├── bird.txt        # bird object class labels\n",
    "├── boat.txt        # boat object class labels\n",
    "├── bottle.txt      # bottle object class labels\n",
    "├── bus.txt         # bus object class labels\n",
    "├── car.txt         # car object class labels\n",
    "├── cat.txt         # cat object class labels\n",
    "├── chair.txt       # chair object class labels\n",
    "├── cow.txt         # cow object class labels\n",
    "├── diningtable.txt # dining table object class labels\n",
    "├── dog.txt         # dog object class labels\n",
    "├── horse.txt       # horse object class labels\n",
    "├── motorbike.txt   # motorbike object class labels\n",
    "├── person.txt      # person object class labels\n",
    "├── pottedplant.txt # potted plant object class labels\n",
    "├── sheep.txt       # sheep object class labels\n",
    "├── sofa.txt        # sofa object class labels\n",
    "├── train.txt       # train object class labels\n",
    "├── tvmonitor.txt   # TV monitor object class labels\n",
    "├── LICENSE\n",
    "└── README.md\n",
    "```\n",
    "\n",
    "\n",
    "\n",
    "\n"
   ]
  },
  {
   "cell_type": "markdown",
   "metadata": {
    "colab_type": "text",
    "id": "K7x5PwDaFDdy"
   },
   "source": [
    "## The challenge\n",
    "This is an open-ended challenge and we want to witness your creativity. Some obvious suggestions:\n",
    "- Data exploration/visualization\n",
    "- Binary/multiclass classification\n",
    "- Anomaly detection\n",
    "- Unsupervised clustering\n",
    "- Model explainability\n",
    "\n",
    "You're welcome to explore one or more of these topics, or do something entirely different.\n",
    "\n",
    "Create, iterate on, and validate your work in this notebook, using any packages of your choosing.\n",
    "\n",
    "**You can access a GPU via `Runtime -> Change runtime type` in the toolbar.**\n",
    "\n",
    "## Submission instructions\n",
    "Once you're done, send this `.ipynb` notebook (or a link to it hosted on Google Drive/GitHub with appropriate permissions) to talent@novoic.com, ensuring that outputs from cells (text, plots etc) are preserved.\n",
    "\n",
    "If you haven't applied already, make sure you submit an application first through our [job board](https://novoic.com/careers/)."
   ]
  },
  {
   "cell_type": "markdown",
   "metadata": {
    "colab_type": "text",
    "id": "VXJdZxNrK008"
   },
   "source": [
    "## Your submission\n",
    "The below sets up TensorFlow as an example but feel free to use any framework you like."
   ]
  },
  {
   "cell_type": "code",
   "execution_count": null,
   "metadata": {
    "colab": {},
    "colab_type": "code",
    "id": "t7A3vYU3LRz_"
   },
   "outputs": [],
   "source": [
    "# The default TensorFlow version on Colab is 1.x. Uncomment the below to use TensorFlow 2.x instead.\n",
    "# %tensorflow_version 2.x"
   ]
  },
  {
   "cell_type": "code",
   "execution_count": null,
   "metadata": {
    "colab": {},
    "colab_type": "code",
    "id": "d_-0bsdzK6sy"
   },
   "outputs": [],
   "source": [
    "import tensorflow as tf\n",
    "tf.__version__"
   ]
  },
  {
   "cell_type": "markdown",
   "metadata": {
    "colab_type": "text",
    "id": "Y8PoDC7xLkU4"
   },
   "source": [
    "Take the wheel!"
   ]
  },
  {
   "cell_type": "code",
   "execution_count": null,
   "metadata": {},
   "outputs": [],
   "source": []
  },
  {
   "cell_type": "code",
   "execution_count": null,
   "metadata": {},
   "outputs": [],
   "source": []
  }
 ],
 "metadata": {
  "accelerator": "GPU",
  "colab": {
   "authorship_tag": "ABX9TyMjXH0w0+10XHLMbZDEEU9b",
   "collapsed_sections": [],
   "include_colab_link": true,
   "mount_file_id": "https://github.com/novoic/ml-challenge/blob/master/kernel.ipynb",
   "name": "Copy of Copy of Novoic ML challenge",
   "provenance": [],
   "toc_visible": true
  },
  "kernelspec": {
   "display_name": "Python 2",
   "language": "python",
   "name": "python2"
  },
  "language_info": {
   "codemirror_mode": {
    "name": "ipython",
    "version": 2
   },
   "file_extension": ".py",
   "mimetype": "text/x-python",
   "name": "python",
   "nbconvert_exporter": "python",
   "pygments_lexer": "ipython2",
   "version": "2.7.17"
  },
  "pycharm": {
   "stem_cell": {
    "cell_type": "raw",
    "source": [],
    "metadata": {
     "collapsed": false
    }
   }
  }
 },
 "nbformat": 4,
 "nbformat_minor": 1
}